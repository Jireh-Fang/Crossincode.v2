{
 "cells": [
  {
   "cell_type": "code",
   "execution_count": 3,
   "metadata": {},
   "outputs": [
    {
     "name": "stdout",
     "output_type": "stream",
     "text": [
      "请输入你的名字：gml\n",
      "1.开始游戏；2.退出\n",
      "1\n",
      "请输入你要猜的数：10\n",
      "太大了\n",
      "请输入你要猜的数：5\n",
      "太大了\n",
      "请输入你要猜的数：3\n",
      "太大了\n",
      "请输入你要猜的数：2\n",
      "你猜对了！\n",
      "gml,你共猜了4次，最快1次猜对，平均4.0轮猜中\n",
      "\n",
      "1.开始游戏；2.退出\n",
      "2\n",
      "游戏结束\n"
     ]
    }
   ],
   "source": [
    "with open (r'E:\\python\\Crossincode.v2\\game_data.txt','r') as f:\n",
    "    list = f.read().split()\n",
    "original_name = list[0]\n",
    "game_data = list[1:]\n",
    "\n",
    "from random  import randint\n",
    "real_name = input('请输入你的名字：')\n",
    "if real_name == original_name:\n",
    "    total = list[2]\n",
    "    times = list[3]\n",
    "    min_count = list[1]\n",
    "if real_name != original_name:\n",
    "    total = 0\n",
    "    times = 0\n",
    "    min_count = 0\n",
    "    while True:\n",
    "        choice = input('1.开始游戏；2.退出\\n')\n",
    "        if str(choice) == '1':\n",
    "            count = 0\n",
    "            total += 1\n",
    "            num = randint(1,20)\n",
    "            while True:\n",
    "                count += 1\n",
    "                times += 1\n",
    "                guess = int(input(\"请输入你要猜的数：\"))\n",
    "                if guess > num:\n",
    "                    print(\"太大了\")\n",
    "                elif guess < num:\n",
    "                    print(\"太小了\")\n",
    "                else:\n",
    "                    print(\"你猜对了！\")\n",
    "                    break   \n",
    "        if min_count == 0:\n",
    "            min_count = count\n",
    "        elif min_count > count:\n",
    "            min_count = count\n",
    "        elif min_count < count:\n",
    "            min_count = min_count\n",
    "        else:\n",
    "            min_count = count \n",
    "        if str(choice) == '2':\n",
    "            break\n",
    "        if total > 0:\n",
    "            print('%s,你共猜了%d次，最快%d次猜对，平均%.1f轮猜中\\n'%(real_name,min_count,total,float(times)/total)) \n",
    "    print('游戏结束')\n",
    "    data = '%s %d %d %.1f'%(real_name,min_count,total,times)\n",
    "    with open(r'E:\\python\\Crossincode.v2\\game_data.txt','w') as f:\n",
    "        f.write(data)"
   ]
  },
  {
   "cell_type": "code",
   "execution_count": null,
   "metadata": {},
   "outputs": [],
   "source": []
  }
 ],
 "metadata": {
  "kernelspec": {
   "display_name": "Python 3",
   "language": "python",
   "name": "python3"
  },
  "language_info": {
   "codemirror_mode": {
    "name": "ipython",
    "version": 3
   },
   "file_extension": ".py",
   "mimetype": "text/x-python",
   "name": "python",
   "nbconvert_exporter": "python",
   "pygments_lexer": "ipython3",
   "version": "3.7.2"
  }
 },
 "nbformat": 4,
 "nbformat_minor": 2
}
